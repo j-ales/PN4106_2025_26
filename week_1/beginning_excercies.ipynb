{
 "cells": [
  {
   "cell_type": "markdown",
   "metadata": {},
   "source": [
    "Create a markdown cell and make a short description of something.  Try making a subheading and different size text.  Make one line in italics and one line in bold. "
   ]
  },
  {
   "cell_type": "markdown",
   "metadata": {},
   "source": [
    "Put your markdown cell before this cell. "
   ]
  },
  {
   "cell_type": "markdown",
   "metadata": {},
   "source": [
    " Create a python code cell, use Python to calculate the sum of 5 + 3 and the product of 4 * 2. Run the cell to display the output."
   ]
  },
  {
   "cell_type": "markdown",
   "metadata": {},
   "source": [
    "Create a new jupyter notebook file.   Add a markdown cell with the heading \"First Juypyter notebook\".\n",
    "\n",
    "Add a code cell that starts with: \n",
    "\n",
    "`print(\"First Code Cell Output\")`\n",
    "\n",
    "\n",
    "Add another code cell that prints a message like \"second cell output\".  Try running them in different orders.  Try to observe the counter next to the cell that indicates which order things are run in. "
   ]
  },
  {
   "cell_type": "markdown",
   "metadata": {},
   "source": [
    "Try and save your work and then close your browser and log back in to the online server.  \n"
   ]
  },
  {
   "cell_type": "markdown",
   "metadata": {},
   "source": []
  }
 ],
 "metadata": {
  "kernelspec": {
   "display_name": "jmaPy38",
   "language": "python",
   "name": "python3"
  },
  "language_info": {
   "codemirror_mode": {
    "name": "ipython",
    "version": 3
   },
   "file_extension": ".py",
   "mimetype": "text/x-python",
   "name": "python",
   "nbconvert_exporter": "python",
   "pygments_lexer": "ipython3",
   "version": "3.8.19"
  }
 },
 "nbformat": 4,
 "nbformat_minor": 2
}
